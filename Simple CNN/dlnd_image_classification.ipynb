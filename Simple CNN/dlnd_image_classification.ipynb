{
 "cells": [
  {
   "cell_type": "markdown",
   "metadata": {
    "collapsed": true
   },
   "source": [
    "# Image Classification\n",
    "In this project, you'll classify images from the [CIFAR-10 dataset](https://www.cs.toronto.edu/~kriz/cifar.html).  The dataset consists of airplanes, dogs, cats, and other objects. You'll preprocess the images, then train a convolutional neural network on all the samples. The images need to be normalized and the labels need to be one-hot encoded.  You'll get to apply what you learned and build a convolutional, max pooling, dropout, and fully connected layers.  At the end, you'll get to see your neural network's predictions on the sample images.\n",
    "## Get the Data\n",
    "Run the following cell to download the [CIFAR-10 dataset for python](https://www.cs.toronto.edu/~kriz/cifar-10-python.tar.gz)."
   ]
  },
  {
   "cell_type": "code",
   "execution_count": 60,
   "metadata": {},
   "outputs": [
    {
     "name": "stdout",
     "output_type": "stream",
     "text": [
      "All files found!\n"
     ]
    }
   ],
   "source": [
    "\"\"\"\n",
    "DON'T MODIFY ANYTHING IN THIS CELL THAT IS BELOW THIS LINE\n",
    "\"\"\"\n",
    "from urllib.request import urlretrieve\n",
    "from os.path import isfile, isdir\n",
    "from tqdm import tqdm\n",
    "import problem_unittests as tests\n",
    "import tarfile\n",
    "import numpy as np\n",
    "\n",
    "cifar10_dataset_folder_path = 'cifar-10-batches-py'\n",
    "\n",
    "# Use Floyd's cifar-10 dataset if present\n",
    "floyd_cifar10_location = '/input/cifar-10/python.tar.gz'\n",
    "if isfile(floyd_cifar10_location):\n",
    "    tar_gz_path = floyd_cifar10_location\n",
    "else:\n",
    "    tar_gz_path = 'cifar-10-python.tar.gz'\n",
    "\n",
    "class DLProgress(tqdm):\n",
    "    last_block = 0\n",
    "\n",
    "    def hook(self, block_num=1, block_size=1, total_size=None):\n",
    "        self.total = total_size\n",
    "        self.update((block_num - self.last_block) * block_size)\n",
    "        self.last_block = block_num\n",
    "\n",
    "if not isfile(tar_gz_path):\n",
    "    with DLProgress(unit='B', unit_scale=True, miniters=1, desc='CIFAR-10 Dataset') as pbar:\n",
    "        urlretrieve(\n",
    "            'https://www.cs.toronto.edu/~kriz/cifar-10-python.tar.gz',\n",
    "            tar_gz_path,\n",
    "            pbar.hook)\n",
    "\n",
    "if not isdir(cifar10_dataset_folder_path):\n",
    "    with tarfile.open(tar_gz_path) as tar:\n",
    "        tar.extractall()\n",
    "        tar.close()\n",
    "\n",
    "\n",
    "tests.test_folder_path(cifar10_dataset_folder_path)"
   ]
  },
  {
   "cell_type": "markdown",
   "metadata": {},
   "source": [
    "## Explore the Data\n",
    "The dataset is broken into batches to prevent your machine from running out of memory.  The CIFAR-10 dataset consists of 5 batches, named `data_batch_1`, `data_batch_2`, etc.. Each batch contains the labels and images that are one of the following:\n",
    "* airplane\n",
    "* automobile\n",
    "* bird\n",
    "* cat\n",
    "* deer\n",
    "* dog\n",
    "* frog\n",
    "* horse\n",
    "* ship\n",
    "* truck\n",
    "\n",
    "Understanding a dataset is part of making predictions on the data.  Play around with the code cell below by changing the `batch_id` and `sample_id`. The `batch_id` is the id for a batch (1-5). The `sample_id` is the id for a image and label pair in the batch.\n",
    "\n",
    "Ask yourself \"What are all possible labels?\", \"What is the range of values for the image data?\", \"Are the labels in order or random?\".  Answers to questions like these will help you preprocess the data and end up with better predictions."
   ]
  },
  {
   "cell_type": "code",
   "execution_count": 61,
   "metadata": {},
   "outputs": [
    {
     "name": "stdout",
     "output_type": "stream",
     "text": [
      "\n",
      "Stats of batch 1:\n",
      "Samples: 10000\n",
      "Label Counts: {0: 1005, 1: 974, 2: 1032, 3: 1016, 4: 999, 5: 937, 6: 1030, 7: 1001, 8: 1025, 9: 981}\n",
      "First 20 Labels: [6, 9, 9, 4, 1, 1, 2, 7, 8, 3, 4, 7, 7, 2, 9, 9, 9, 3, 2, 6]\n",
      "\n",
      "Example of Image 5:\n",
      "Image - Min Value: 0 Max Value: 252\n",
      "Image - Shape: (32, 32, 3)\n",
      "Label - Label Id: 1 Name: automobile\n"
     ]
    },
    {
     "data": {
      "image/png": "[encoded data removed]",
      "text/plain": [
       "<matplotlib.figure.Figure at 0x1e2805cfac8>"
      ]
     },
     "metadata": {
      "image/png": {
       "height": 250,
       "width": 253
      }
     },
     "output_type": "display_data"
    }
   ],
   "source": [
    "%matplotlib inline\n",
    "%config InlineBackend.figure_format = 'retina'\n",
    "\n",
    "import helper\n",
    "import numpy as np\n",
    "\n",
    "# Explore the dataset\n",
    "batch_id = 1\n",
    "sample_id = 5\n",
    "helper.display_stats(cifar10_dataset_folder_path, batch_id, sample_id)"
   ]
  },
  {
   "cell_type": "markdown",
   "metadata": {},
   "source": [
    "## Implement Preprocess Functions\n",
    "### Normalize\n",
    "In the cell below, implement the `normalize` function to take in image data, `x`, and return it as a normalized Numpy array. The values should be in the range of 0 to 1, inclusive.  The return object should be the same shape as `x`."
   ]
  },
  {
   "cell_type": "code",
   "execution_count": 62,
   "metadata": {},
   "outputs": [
    {
     "name": "stdout",
     "output_type": "stream",
     "text": [
      "Tests Passed\n"
     ]
    }
   ],
   "source": [
    "def normalize(x):\n",
    "    \"\"\"\n",
    "    Normalize a list of sample image data in the range of 0 to 1\n",
    "    : x: List of image data.  The image shape is (32, 32, 3)\n",
    "    : return: Numpy array of normalize data\n",
    "    \"\"\"\n",
    "    return x/255\n",
    "\n",
    "\n",
    "\"\"\"\n",
    "DON'T MODIFY ANYTHING IN THIS CELL THAT IS BELOW THIS LINE\n",
    "\"\"\"\n",
    "tests.test_normalize(normalize)"
   ]
  },
  {
   "cell_type": "markdown",
   "metadata": {},
   "source": [
    "### One-hot encode\n",
    "Just like the previous code cell, you'll be implementing a function for preprocessing.  This time, you'll implement the `one_hot_encode` function. The input, `x`, are a list of labels.  Implement the function to return the list of labels as One-Hot encoded Numpy array.  The possible values for labels are 0 to 9. The one-hot encoding function should return the same encoding for each value between each call to `one_hot_encode`.  Make sure to save the map of encodings outside the function.\n",
    "\n",
    "Hint: Don't reinvent the wheel."
   ]
  },
  {
   "cell_type": "code",
   "execution_count": 63,
   "metadata": {},
   "outputs": [
    {
     "name": "stdout",
     "output_type": "stream",
     "text": [
      "Tests Passed\n"
     ]
    }
   ],
   "source": [
    "def one_hot_encode(x):\n",
    "    \"\"\"\n",
    "    One hot encode a list of sample labels. Return a one-hot encoded vector for each label.\n",
    "    : x: List of sample Labels\n",
    "    : return: Numpy array of one-hot encoded labels\n",
    "    \"\"\"\n",
    "    temp = np.zeros((len(x), 10))\n",
    "    temp[np.arange(len(x)), x] = 1\n",
    "    \n",
    "    return temp\n",
    "\n",
    "\n",
    "\"\"\"\n",
    "DON'T MODIFY ANYTHING IN THIS CELL THAT IS BELOW THIS LINE\n",
    "\"\"\"\n",
    "tests.test_one_hot_encode(one_hot_encode)"
   ]
  },
  {
   "cell_type": "markdown",
   "metadata": {},
   "source": [
    "### Randomize Data\n",
    "As you saw from exploring the data above, the order of the samples are randomized.  It doesn't hurt to randomize it again, but you don't need to for this dataset."
   ]
  },
  {
   "cell_type": "code",
   "execution_count": null,
   "metadata": {
    "collapsed": true
   },
   "outputs": [],
   "source": []
  },
  {
   "cell_type": "markdown",
   "metadata": {},
   "source": [
    "## Preprocess all the data and save it\n",
    "Running the code cell below will preprocess all the CIFAR-10 data and save it to file. The code below also uses 10% of the training data for validation."
   ]
  },
  {
   "cell_type": "code",
   "execution_count": 64,
   "metadata": {
    "collapsed": true
   },
   "outputs": [],
   "source": [
    "\"\"\"\n",
    "DON'T MODIFY ANYTHING IN THIS CELL\n",
    "\"\"\"\n",
    "# Preprocess Training, Validation, and Testing Data\n",
    "helper.preprocess_and_save_data(cifar10_dataset_folder_path, normalize, one_hot_encode)"
   ]
  },
  {
   "cell_type": "markdown",
   "metadata": {},
   "source": [
    "# Check Point\n",
    "This is your first checkpoint.  If you ever decide to come back to this notebook or have to restart the notebook, you can start from here.  The preprocessed data has been saved to disk."
   ]
  },
  {
   "cell_type": "code",
   "execution_count": 65,
   "metadata": {
    "collapsed": true
   },
   "outputs": [],
   "source": [
    "\"\"\"\n",
    "DON'T MODIFY ANYTHING IN THIS CELL\n",
    "\"\"\"\n",
    "import pickle\n",
    "import problem_unittests as tests\n",
    "import helper\n",
    "import numpy as np\n",
    "\n",
    "# Load the Preprocessed Validation data\n",
    "valid_features, valid_labels = pickle.load(open('preprocess_validation.p', mode='rb'))"
   ]
  },
  {
   "cell_type": "markdown",
   "metadata": {},
   "source": [
    "## Build the network\n",
    "For the neural network, you'll build each layer into a function.  Most of the code you've seen has been outside of functions. To test your code more thoroughly, we require that you put each layer in a function.  This allows us to give you better feedback and test for simple mistakes using our unittests before you submit your project.\n",
    "\n",
    ">**Note:** If you're finding it hard to dedicate enough time for this course each week, we've provided a small shortcut to this part of the project. In the next couple of problems, you'll have the option to use classes from the [TensorFlow Layers](https://www.tensorflow.org/api_docs/python/tf/layers) or [TensorFlow Layers (contrib)](https://www.tensorflow.org/api_guides/python/contrib.layers) packages to build each layer, except the layers you build in the \"Convolutional and Max Pooling Layer\" section.  TF Layers is similar to Keras's and TFLearn's abstraction to layers, so it's easy to pickup.\n",
    "\n",
    ">However, if you would like to get the most out of this course, try to solve all the problems _without_ using anything from the TF Layers packages. You **can** still use classes from other packages that happen to have the same name as ones you find in TF Layers! For example, instead of using the TF Layers version of the `conv2d` class, [tf.layers.conv2d](https://www.tensorflow.org/api_docs/python/tf/layers/conv2d), you would want to use the TF Neural Network version of `conv2d`, [tf.nn.conv2d](https://www.tensorflow.org/api_docs/python/tf/nn/conv2d). \n",
    "\n",
    "Let's begin!\n",
    "\n",
    "### Input\n",
    "The neural network needs to read the image data, one-hot encoded labels, and dropout keep probability. Implement the following functions\n",
    "* Implement `neural_net_image_input`\n",
    " * Return a [TF Placeholder](https://www.tensorflow.org/api_docs/python/tf/placeholder)\n",
    " * Set the shape using `image_shape` with batch size set to `None`.\n",
    " * Name the TensorFlow placeholder \"x\" using the TensorFlow `name` parameter in the [TF Placeholder](https://www.tensorflow.org/api_docs/python/tf/placeholder).\n",
    "* Implement `neural_net_label_input`\n",
    " * Return a [TF Placeholder](https://www.tensorflow.org/api_docs/python/tf/placeholder)\n",
    " * Set the shape using `n_classes` with batch size set to `None`.\n",
    " * Name the TensorFlow placeholder \"y\" using the TensorFlow `name` parameter in the [TF Placeholder](https://www.tensorflow.org/api_docs/python/tf/placeholder).\n",
    "* Implement `neural_net_keep_prob_input`\n",
    " * Return a [TF Placeholder](https://www.tensorflow.org/api_docs/python/tf/placeholder) for dropout keep probability.\n",
    " * Name the TensorFlow placeholder \"keep_prob\" using the TensorFlow `name` parameter in the [TF Placeholder](https://www.tensorflow.org/api_docs/python/tf/placeholder).\n",
    "\n",
    "These names will be used at the end of the project to load your saved model.\n",
    "\n",
    "Note: `None` for shapes in TensorFlow allow for a dynamic size."
   ]
  },
  {
   "cell_type": "code",
   "execution_count": 66,
   "metadata": {},
   "outputs": [
    {
     "name": "stdout",
     "output_type": "stream",
     "text": [
      "Image Input Tests Passed.\n",
      "Label Input Tests Passed.\n",
      "Keep Prob Tests Passed.\n"
     ]
    }
   ],
   "source": [
    "import tensorflow as tf\n",
    "\n",
    "def neural_net_image_input(image_shape):\n",
    "    \"\"\"\n",
    "    Return a Tensor for a batch of image input\n",
    "    : image_shape: Shape of the images\n",
    "    : return: Tensor for image input.\n",
    "    \"\"\"\n",
    "    x = tf.placeholder(tf.float32,shape = [None,image_shape[0],image_shape[1],image_shape[2]], name = 'x')\n",
    "    return x \n",
    "\n",
    "\n",
    "def neural_net_label_input(n_classes):\n",
    "    \"\"\"\n",
    "    Return a Tensor for a batch of label input\n",
    "    : n_classes: Number of classes\n",
    "    : return: Tensor for label input.\n",
    "    \"\"\"\n",
    "    y = tf.placeholder(tf.float32,[None,n_classes], name = 'y')\n",
    "    return y\n",
    "\n",
    "\n",
    "def neural_net_keep_prob_input():\n",
    "    \"\"\"\n",
    "    Return a Tensor for keep probability\n",
    "    : return: Tensor for keep probability.\n",
    "    \"\"\"\n",
    "    return tf.placeholder(tf.float32, name = 'keep_prob')\n",
    "\n",
    "\n",
    "\"\"\"\n",
    "DON'T MODIFY ANYTHING IN THIS CELL THAT IS BELOW THIS LINE\n",
    "\"\"\"\n",
    "tf.reset_default_graph()\n",
    "tests.test_nn_image_inputs(neural_net_image_input)\n",
    "tests.test_nn_label_inputs(neural_net_label_input)\n",
    "tests.test_nn_keep_prob_inputs(neural_net_keep_prob_input)"
   ]
  },
  {
   "cell_type": "markdown",
   "metadata": {},
   "source": [
    "### Convolution and Max Pooling Layer\n",
    "Convolution layers have a lot of success with images. For this code cell, you should implement the function `conv2d_maxpool` to apply convolution then max pooling:\n",
    "* Create the weight and bias using `conv_ksize`, `conv_num_outputs` and the shape of `x_tensor`.\n",
    "* Apply a convolution to `x_tensor` using weight and `conv_strides`.\n",
    " * We recommend you use same padding, but you're welcome to use any padding.\n",
    "* Add bias\n",
    "* Add a nonlinear activation to the convolution.\n",
    "* Apply Max Pooling using `pool_ksize` and `pool_strides`.\n",
    " * We recommend you use same padding, but you're welcome to use any padding.\n",
    "\n",
    "**Note:** You **can't** use [TensorFlow Layers](https://www.tensorflow.org/api_docs/python/tf/layers) or [TensorFlow Layers (contrib)](https://www.tensorflow.org/api_guides/python/contrib.layers) for **this** layer, but you can still use TensorFlow's [Neural Network](https://www.tensorflow.org/api_docs/python/tf/nn) package. You may still use the shortcut option for all the **other** layers."
   ]
  },
  {
   "cell_type": "code",
   "execution_count": 67,
   "metadata": {},
   "outputs": [
    {
     "name": "stdout",
     "output_type": "stream",
     "text": [
      "Tests Passed\n"
     ]
    }
   ],
   "source": [
    "def conv2d_maxpool(x_tensor, conv_num_outputs, conv_ksize, conv_strides, pool_ksize, pool_strides):\n",
    "    \"\"\"\n",
    "    Apply convolution then max pooling to x_tensor\n",
    "    :param x_tensor: TensorFlow Tensor\n",
    "    :param conv_num_outputs: Number of outputs for the convolutional layer\n",
    "    :param conv_ksize: kernal size 2-D Tuple for the convolutional layer\n",
    "    :param conv_strides: Stride 2-D Tuple for convolution\n",
    "    :param pool_ksize: kernal size 2-D Tuple for pool\n",
    "    :param pool_strides: Stride 2-D Tuple for pool\n",
    "    : return: A tensor that represents convolution and max pooling of x_tensor\n",
    "    \"\"\"\n",
    "    weight_size = [conv_ksize[0],conv_ksize[1],\n",
    "                   x_tensor.get_shape().as_list()[3],conv_num_outputs]\n",
    "    conv_strides = [1,conv_strides[0],conv_strides[1],1]\n",
    "    pool_size = [1,pool_ksize[0],pool_ksize[1],1]\n",
    "    pool_strides = [1,pool_strides[0],pool_strides[1],1]\n",
    "    \n",
    "    weight = tf.Variable(tf.truncated_normal(weight_size,stddev=1.0/(weight_size[2])**0.5), name = 'weight')\n",
    "    bias = tf.Variable(tf.zeros(conv_num_outputs))\n",
    "    conv = tf.nn.conv2d(x_tensor, weight, conv_strides, 'SAME') + bias\n",
    "    conv = tf.nn.relu(conv)\n",
    "    conv = tf.nn.max_pool(conv, pool_size, pool_strides, 'SAME')\n",
    "    return conv\n",
    "\n",
    "\n",
    "\"\"\"\n",
    "DON'T MODIFY ANYTHING IN THIS CELL THAT IS BELOW THIS LINE\n",
    "\"\"\"\n",
    "tests.test_con_pool(conv2d_maxpool)"
   ]
  },
  {
   "cell_type": "markdown",
   "metadata": {},
   "source": [
    "### Flatten Layer\n",
    "Implement the `flatten` function to change the dimension of `x_tensor` from a 4-D tensor to a 2-D tensor.  The output should be the shape (*Batch Size*, *Flattened Image Size*). Shortcut option: you can use classes from the [TensorFlow Layers](https://www.tensorflow.org/api_docs/python/tf/layers) or [TensorFlow Layers (contrib)](https://www.tensorflow.org/api_guides/python/contrib.layers) packages for this layer. For more of a challenge, only use other TensorFlow packages."
   ]
  },
  {
   "cell_type": "code",
   "execution_count": 68,
   "metadata": {},
   "outputs": [
    {
     "name": "stdout",
     "output_type": "stream",
     "text": [
      "Tests Passed\n"
     ]
    }
   ],
   "source": [
    "def flatten(x_tensor):\n",
    "    \"\"\"\n",
    "    Flatten x_tensor to (Batch Size, Flattened Image Size)\n",
    "    : x_tensor: A tensor of size (Batch Size, ...), where ... are the image dimensions.\n",
    "    : return: A tensor of size (Batch Size, Flattened Image Size).\n",
    "    \"\"\"\n",
    "    size = x_tensor.get_shape().as_list()\n",
    "    size[0] = 1\n",
    "    total_size = np.prod(size)\n",
    "    return tf.reshape(x_tensor,[-1,total_size], name = \"flatten\")\n",
    "\n",
    "\n",
    "\"\"\"\n",
    "DON'T MODIFY ANYTHING IN THIS CELL THAT IS BELOW THIS LINE\n",
    "\"\"\"\n",
    "tests.test_flatten(flatten)"
   ]
  },
  {
   "cell_type": "markdown",
   "metadata": {},
   "source": [
    "### Fully-Connected Layer\n",
    "Implement the `fully_conn` function to apply a fully connected layer to `x_tensor` with the shape (*Batch Size*, *num_outputs*). Shortcut option: you can use classes from the [TensorFlow Layers](https://www.tensorflow.org/api_docs/python/tf/layers) or [TensorFlow Layers (contrib)](https://www.tensorflow.org/api_guides/python/contrib.layers) packages for this layer. For more of a challenge, only use other TensorFlow packages."
   ]
  },
  {
   "cell_type": "code",
   "execution_count": 69,
   "metadata": {},
   "outputs": [
    {
     "name": "stdout",
     "output_type": "stream",
     "text": [
      "Tests Passed\n"
     ]
    }
   ],
   "source": [
    "def fully_conn(x_tensor, num_outputs):\n",
    "    \"\"\"\n",
    "    Apply a fully connected layer to x_tensor using weight and bias\n",
    "    : x_tensor: A 2-D tensor where the first dimension is batch size.\n",
    "    : num_outputs: The number of output that the new tensor should be.\n",
    "    : return: A 2-D tensor where the second dimension is num_outputs.\n",
    "    \"\"\"\n",
    "    x_size = x_tensor.get_shape().as_list()\n",
    "    weight_size = [x_size[1],num_outputs]\n",
    "    weight_full = tf.Variable(tf.truncated_normal(weight_size,stddev=1.0/(weight_size[0])**0.5))\n",
    "    bias_full = tf.Variable(tf.zeros([num_outputs]))\n",
    "    return tf.nn.relu(tf.add(tf.matmul(x_tensor,weight_full),bias_full))\n",
    "\n",
    "\n",
    "\"\"\"\n",
    "DON'T MODIFY ANYTHING IN THIS CELL THAT IS BELOW THIS LINE\n",
    "\"\"\"\n",
    "tests.test_fully_conn(fully_conn)"
   ]
  },
  {
   "cell_type": "markdown",
   "metadata": {},
   "source": [
    "### Output Layer\n",
    "Implement the `output` function to apply a fully connected layer to `x_tensor` with the shape (*Batch Size*, *num_outputs*). Shortcut option: you can use classes from the [TensorFlow Layers](https://www.tensorflow.org/api_docs/python/tf/layers) or [TensorFlow Layers (contrib)](https://www.tensorflow.org/api_guides/python/contrib.layers) packages for this layer. For more of a challenge, only use other TensorFlow packages.\n",
    "\n",
    "**Note:** Activation, softmax, or cross entropy should **not** be applied to this."
   ]
  },
  {
   "cell_type": "code",
   "execution_count": 70,
   "metadata": {},
   "outputs": [
    {
     "name": "stdout",
     "output_type": "stream",
     "text": [
      "Tests Passed\n"
     ]
    }
   ],
   "source": [
    "def output(x_tensor, num_outputs):\n",
    "    \"\"\"\n",
    "    Apply a output layer to x_tensor using weight and bias\n",
    "    : x_tensor: A 2-D tensor where the first dimension is batch size.\n",
    "    : num_outputs: The number of output that the new tensor should be.\n",
    "    : return: A 2-D tensor where the second dimension is num_outputs.\n",
    "    \"\"\"\n",
    "    x_size = x_tensor.get_shape().as_list()\n",
    "    weight_size = [x_size[1],num_outputs]\n",
    "    weight_full = tf.Variable(tf.truncated_normal(weight_size,stddev=1.0/(weight_size[0])**0.5))\n",
    "    bias_full = tf.Variable(tf.zeros([num_outputs]))\n",
    "    return tf.add(tf.matmul(x_tensor,weight_full),bias_full)\n",
    "\n",
    "\n",
    "\"\"\"\n",
    "DON'T MODIFY ANYTHING IN THIS CELL THAT IS BELOW THIS LINE\n",
    "\"\"\"\n",
    "tests.test_output(output)"
   ]
  },
  {
   "cell_type": "markdown",
   "metadata": {},
   "source": [
    "### Create Convolutional Model\n",
    "Implement the function `conv_net` to create a convolutional neural network model. The function takes in a batch of images, `x`, and outputs logits.  Use the layers you created above to create this model:\n",
    "\n",
    "* Apply 1, 2, or 3 Convolution and Max Pool layers\n",
    "* Apply a Flatten Layer\n",
    "* Apply 1, 2, or 3 Fully Connected Layers\n",
    "* Apply an Output Layer\n",
    "* Return the output\n",
    "* Apply [TensorFlow's Dropout](https://www.tensorflow.org/api_docs/python/tf/nn/dropout) to one or more layers in the model using `keep_prob`. "
   ]
  },
  {
   "cell_type": "code",
   "execution_count": 91,
   "metadata": {},
   "outputs": [
    {
     "name": "stdout",
     "output_type": "stream",
     "text": [
      "Neural Network Built!\n"
     ]
    }
   ],
   "source": [
    "def conv_net(x, keep_prob):\n",
    "    \"\"\"\n",
    "    Create a convolutional neural network model\n",
    "    : x: Placeholder tensor that holds image data.\n",
    "    : keep_prob: Placeholder tensor that hold dropout keep probability.\n",
    "    : return: Tensor that represents logits\n",
    "    \"\"\"\n",
    "    # TODO: Apply 1, 2, or 3 Convolution and Max Pool layers\n",
    "    #    Play around with different number of outputs, kernel size and stride\n",
    "    # Function Definition from Above:\n",
    "    #    conv2d_maxpool(x_tensor, conv_num_outputs, conv_ksize, conv_strides, pool_ksize, pool_strides)\n",
    "    conv = conv2d_maxpool(x, conv_num_outputs = 30, conv_ksize = [3,3], conv_strides = [2,2],\n",
    "                          pool_ksize = [3,3], pool_strides = [2,2])\n",
    "    conv = conv2d_maxpool(conv, conv_num_outputs = 45, conv_ksize = [4,4], conv_strides = [2,2],\n",
    "                          pool_ksize = [4,4], pool_strides = [2,2])\n",
    "    # TODO: Apply a Flatten Layer\n",
    "    # Function Definition from Above:\n",
    "    #   flatten(x_tensor)\n",
    "    flat = flatten(conv)\n",
    "\n",
    "    # TODO: Apply 1, 2, or 3 Fully Connected Layers\n",
    "    #    Play around with different number of outputs\n",
    "    # Function Definition from Above:\n",
    "    #   fully_conn(x_tensor, num_outputs)\n",
    "    FNN = fully_conn(flat,40)\n",
    "    FNN = tf.nn.dropout(FNN,keep_prob)\n",
    "    FNN = fully_conn(FNN,20)\n",
    "\n",
    "    # TODO: Apply an Output Layer\n",
    "    #    Set this to the number of classes\n",
    "    # Function Definition from Above:\n",
    "    #   output(x_tensor, num_outputs)\n",
    "    out = output(FNN,10)\n",
    "    \n",
    "    # TODO: return output\n",
    "    return out\n",
    "\n",
    "\n",
    "\"\"\"\n",
    "DON'T MODIFY ANYTHING IN THIS CELL THAT IS BELOW THIS LINE\n",
    "\"\"\"\n",
    "\n",
    "##############################\n",
    "## Build the Neural Network ##\n",
    "##############################\n",
    "\n",
    "# Remove previous weights, bias, inputs, etc..\n",
    "tf.reset_default_graph()\n",
    "\n",
    "# Inputs\n",
    "x = neural_net_image_input((32, 32, 3))\n",
    "y = neural_net_label_input(10)\n",
    "keep_prob = neural_net_keep_prob_input()\n",
    "\n",
    "# Model\n",
    "logits = conv_net(x, keep_prob)\n",
    "\n",
    "# Name logits Tensor, so that is can be loaded from disk after training\n",
    "logits = tf.identity(logits, name='logits')\n",
    "\n",
    "# Loss and Optimizer\n",
    "cost = tf.reduce_mean(tf.nn.softmax_cross_entropy_with_logits(logits=logits, labels=y))\n",
    "optimizer = tf.train.AdamOptimizer(0.5).minimize(cost)\n",
    "\n",
    "# Accuracy\n",
    "correct_pred = tf.equal(tf.argmax(logits, 1), tf.argmax(y, 1))\n",
    "accuracy = tf.reduce_mean(tf.cast(correct_pred, tf.float32), name='accuracy')\n",
    "\n",
    "tests.test_conv_net(conv_net)"
   ]
  },
  {
   "cell_type": "markdown",
   "metadata": {},
   "source": [
    "## Train the Neural Network\n",
    "### Single Optimization\n",
    "Implement the function `train_neural_network` to do a single optimization.  The optimization should use `optimizer` to optimize in `session` with a `feed_dict` of the following:\n",
    "* `x` for image input\n",
    "* `y` for labels\n",
    "* `keep_prob` for keep probability for dropout\n",
    "\n",
    "This function will be called for each batch, so `tf.global_variables_initializer()` has already been called.\n",
    "\n",
    "Note: Nothing needs to be returned. This function is only optimizing the neural network."
   ]
  },
  {
   "cell_type": "code",
   "execution_count": 92,
   "metadata": {},
   "outputs": [
    {
     "name": "stdout",
     "output_type": "stream",
     "text": [
      "Tests Passed\n"
     ]
    }
   ],
   "source": [
    "def train_neural_network(session, optimizer, keep_probability, feature_batch, label_batch):\n",
    "    \"\"\"\n",
    "    Optimize the session on a batch of images and labels\n",
    "    : session: Current TensorFlow session\n",
    "    : optimizer: TensorFlow optimizer function\n",
    "    : keep_probability: keep probability\n",
    "    : feature_batch: Batch of Numpy image data\n",
    "    : label_batch: Batch of Numpy label data\n",
    "    \"\"\"\n",
    "    #cross_entropy = -tf.reduce_sum(tf.multiply(tf.log(softmax),one_hot_data))\n",
    "    #loss = tf.reduce_mean(cross_entropy)\n",
    "    #optimizer = tf.train.GradientDescentOptimizer(learning_rate).minimize(loss)\n",
    "    #optimizer = tf.train.adamDescentOptimizer(learning_rate).minimize(loss)\n",
    "    session.run(\n",
    "        [optimizer],\n",
    "        feed_dict={x: feature_batch, y: label_batch, keep_prob: keep_probability})\n",
    "\n",
    "\n",
    "\"\"\"\n",
    "DON'T MODIFY ANYTHING IN THIS CELL THAT IS BELOW THIS LINE\n",
    "\"\"\"\n",
    "tests.test_train_nn(train_neural_network)"
   ]
  },
  {
   "cell_type": "markdown",
   "metadata": {},
   "source": [
    "### Show Stats\n",
    "Implement the function `print_stats` to print loss and validation accuracy.  Use the global variables `valid_features` and `valid_labels` to calculate validation accuracy.  Use a keep probability of `1.0` to calculate the loss and validation accuracy."
   ]
  },
  {
   "cell_type": "code",
   "execution_count": 93,
   "metadata": {},
   "outputs": [
    {
     "name": "stdout",
     "output_type": "stream",
     "text": [
      "3.37807   0.0944\n"
     ]
    }
   ],
   "source": [
    "def print_stats(session, feature_batch, label_batch, cost, accuracy):\n",
    "    \"\"\"\n",
    "    Print information about loss and validation accuracy\n",
    "    : session: Current TensorFlow session\n",
    "    : feature_batch: Batch of Numpy image data\n",
    "    : label_batch: Batch of Numpy label data\n",
    "    : cost: TensorFlow cost function\n",
    "    : accuracy: TensorFlow accuracy function\n",
    "    \"\"\"\n",
    "    _, cost, acc = session.run(\n",
    "        [optimizer, cost, accuracy],\n",
    "        feed_dict={x: feature_batch, y: label_batch, keep_prob: 1})\n",
    "    print(cost,\" \",acc)\n",
    "    pass\n",
    "\n",
    "with tf.Session() as sess:\n",
    "    sess.run(tf.global_variables_initializer())\n",
    "    print_stats(sess, valid_features, valid_labels, cost, accuracy)"
   ]
  },
  {
   "cell_type": "markdown",
   "metadata": {},
   "source": [
    "### Hyperparameters\n",
    "Tune the following parameters:\n",
    "* Set `epochs` to the number of iterations until the network stops learning or start overfitting\n",
    "* Set `batch_size` to the highest number that your machine has memory for.  Most people set them to common sizes of memory:\n",
    " * 64\n",
    " * 128\n",
    " * 256\n",
    " * ...\n",
    "* Set `keep_probability` to the probability of keeping a node using dropout"
   ]
  },
  {
   "cell_type": "code",
   "execution_count": 104,
   "metadata": {
    "collapsed": true
   },
   "outputs": [],
   "source": [
    "# TODO: Tune Parameters\n",
    "epochs_all = [40,50,60]\n",
    "batch_size = 256\n",
    "keep_probability_all = [0.4,0.5,0.6]\n",
    "learning_rate_all = [0.001,0.003,0.01]\n",
    "optimizer = tf.train.AdamOptimizer(0.003).minimize(cost)"
   ]
  },
  {
   "cell_type": "markdown",
   "metadata": {},
   "source": [
    "### Train on a Single CIFAR-10 Batch\n",
    "Instead of training the neural network on all the CIFAR-10 batches of data, let's use a single batch. This should save time while you iterate on the model to get a better accuracy.  Once the final validation accuracy is 50% or greater, run the model on all the data in the next section."
   ]
  },
  {
   "cell_type": "code",
   "execution_count": 99,
   "metadata": {},
   "outputs": [
    {
     "name": "stdout",
     "output_type": "stream",
     "text": [
      "Checking the Training on a Single Batch...\n",
      "Epoch  1, CIFAR-10 Batch 1:  2.24846   0.075\n",
      "Epoch  2, CIFAR-10 Batch 1:  2.17587   0.225\n",
      "Epoch  3, CIFAR-10 Batch 1:  2.06665   0.25\n",
      "Epoch  4, CIFAR-10 Batch 1:  2.00868   0.325\n",
      "Epoch  5, CIFAR-10 Batch 1:  1.95389   0.3\n",
      "Epoch  6, CIFAR-10 Batch 1:  1.82068   0.425\n",
      "Epoch  7, CIFAR-10 Batch 1:  1.77101   0.375\n",
      "Epoch  8, CIFAR-10 Batch 1:  1.69912   0.425\n",
      "Epoch  9, CIFAR-10 Batch 1:  1.64581   0.45\n",
      "Epoch 10, CIFAR-10 Batch 1:  1.53222   0.5\n",
      "Epoch 11, CIFAR-10 Batch 1:  1.52837   0.4\n",
      "Epoch 12, CIFAR-10 Batch 1:  1.49263   0.4\n",
      "Epoch 13, CIFAR-10 Batch 1:  1.40182   0.525\n",
      "Epoch 14, CIFAR-10 Batch 1:  1.41976   0.5\n",
      "Epoch 15, CIFAR-10 Batch 1:  1.34541   0.525\n",
      "Epoch 16, CIFAR-10 Batch 1:  1.31963   0.55\n",
      "Epoch 17, CIFAR-10 Batch 1:  1.27974   0.525\n",
      "Epoch 18, CIFAR-10 Batch 1:  1.16313   0.625\n",
      "Epoch 19, CIFAR-10 Batch 1:  1.1816   0.6\n",
      "Epoch 20, CIFAR-10 Batch 1:  1.10507   0.575\n",
      "Epoch 21, CIFAR-10 Batch 1:  1.07767   0.675\n",
      "Epoch 22, CIFAR-10 Batch 1:  1.02481   0.65\n",
      "Epoch 23, CIFAR-10 Batch 1:  0.99051   0.625\n",
      "Epoch 24, CIFAR-10 Batch 1:  0.990919   0.725\n",
      "Epoch 25, CIFAR-10 Batch 1:  0.958945   0.75\n",
      "Epoch 26, CIFAR-10 Batch 1:  0.869692   0.7\n",
      "Epoch 27, CIFAR-10 Batch 1:  0.874541   0.775\n",
      "Epoch 28, CIFAR-10 Batch 1:  0.837453   0.8\n",
      "Epoch 29, CIFAR-10 Batch 1:  0.817007   0.75\n",
      "Epoch 30, CIFAR-10 Batch 1:  0.799563   0.8\n",
      "Epoch 31, CIFAR-10 Batch 1:  0.778892   0.825\n",
      "Epoch 32, CIFAR-10 Batch 1:  0.771777   0.825\n",
      "Epoch 33, CIFAR-10 Batch 1:  0.717635   0.85\n",
      "Epoch 34, CIFAR-10 Batch 1:  0.706773   0.875\n",
      "Epoch 35, CIFAR-10 Batch 1:  0.693637   0.825\n",
      "Epoch 36, CIFAR-10 Batch 1:  0.69931   0.825\n",
      "Epoch 37, CIFAR-10 Batch 1:  0.690777   0.8\n",
      "Epoch 38, CIFAR-10 Batch 1:  0.742624   0.8\n",
      "Epoch 39, CIFAR-10 Batch 1:  0.704185   0.85\n",
      "Epoch 40, CIFAR-10 Batch 1:  0.654162   0.8\n"
     ]
    }
   ],
   "source": [
    "\"\"\"\n",
    "DON'T MODIFY ANYTHING IN THIS CELL\n",
    "\"\"\"\n",
    "print('Checking the Training on a Single Batch...')\n",
    "with tf.Session() as sess:\n",
    "    # Initializing the variables\n",
    "    sess.run(tf.global_variables_initializer())\n",
    "    \n",
    "    # Training cycle\n",
    "    for epoch in range(epochs):\n",
    "        batch_i = 1\n",
    "        for batch_features, batch_labels in helper.load_preprocess_training_batch(batch_i, batch_size):\n",
    "            train_neural_network(sess, optimizer, keep_probability, batch_features, batch_labels)\n",
    "        print('Epoch {:>2}, CIFAR-10 Batch {}:  '.format(epoch + 1, batch_i), end='')\n",
    "        print_stats(sess, batch_features, batch_labels, cost, accuracy)"
   ]
  },
  {
   "cell_type": "markdown",
   "metadata": {},
   "source": [
    "### Fully Train the Model\n",
    "Now that you got a good accuracy with a single CIFAR-10 batch, try it with all five batches."
   ]
  },
  {
   "cell_type": "code",
   "execution_count": 100,
   "metadata": {},
   "outputs": [
    {
     "name": "stdout",
     "output_type": "stream",
     "text": [
      "Training...\n",
      "Epoch  1, CIFAR-10 Batch 1:  2.29677   0.075\n",
      "Epoch  1, CIFAR-10 Batch 2:  2.23456   0.2\n",
      "Epoch  1, CIFAR-10 Batch 3:  2.04806   0.3\n",
      "Epoch  1, CIFAR-10 Batch 4:  2.10392   0.2\n",
      "Epoch  1, CIFAR-10 Batch 5:  2.12079   0.225\n",
      "Epoch  2, CIFAR-10 Batch 1:  2.1683   0.2\n",
      "Epoch  2, CIFAR-10 Batch 2:  2.07146   0.225\n",
      "Epoch  2, CIFAR-10 Batch 3:  1.82418   0.275\n",
      "Epoch  2, CIFAR-10 Batch 4:  1.92199   0.275\n",
      "Epoch  2, CIFAR-10 Batch 5:  1.91527   0.275\n",
      "Epoch  3, CIFAR-10 Batch 1:  2.04583   0.25\n",
      "Epoch  3, CIFAR-10 Batch 2:  1.92362   0.325\n",
      "Epoch  3, CIFAR-10 Batch 3:  1.75344   0.375\n",
      "Epoch  3, CIFAR-10 Batch 4:  1.85108   0.25\n",
      "Epoch  3, CIFAR-10 Batch 5:  1.76707   0.35\n",
      "Epoch  4, CIFAR-10 Batch 1:  1.90474   0.275\n",
      "Epoch  4, CIFAR-10 Batch 2:  1.82715   0.4\n",
      "Epoch  4, CIFAR-10 Batch 3:  1.60396   0.375\n",
      "Epoch  4, CIFAR-10 Batch 4:  1.68793   0.325\n",
      "Epoch  4, CIFAR-10 Batch 5:  1.60258   0.425\n",
      "Epoch  5, CIFAR-10 Batch 1:  1.71309   0.375\n",
      "Epoch  5, CIFAR-10 Batch 2:  1.72766   0.4\n",
      "Epoch  5, CIFAR-10 Batch 3:  1.58361   0.35\n",
      "Epoch  5, CIFAR-10 Batch 4:  1.56624   0.375\n",
      "Epoch  5, CIFAR-10 Batch 5:  1.44166   0.375\n",
      "Epoch  6, CIFAR-10 Batch 1:  1.61265   0.375\n",
      "Epoch  6, CIFAR-10 Batch 2:  1.64665   0.45\n",
      "Epoch  6, CIFAR-10 Batch 3:  1.48736   0.525\n",
      "Epoch  6, CIFAR-10 Batch 4:  1.47589   0.425\n",
      "Epoch  6, CIFAR-10 Batch 5:  1.36878   0.45\n",
      "Epoch  7, CIFAR-10 Batch 1:  1.46619   0.475\n",
      "Epoch  7, CIFAR-10 Batch 2:  1.43227   0.575\n",
      "Epoch  7, CIFAR-10 Batch 3:  1.3115   0.55\n",
      "Epoch  7, CIFAR-10 Batch 4:  1.33451   0.55\n",
      "Epoch  7, CIFAR-10 Batch 5:  1.25442   0.5\n",
      "Epoch  8, CIFAR-10 Batch 1:  1.37205   0.525\n",
      "Epoch  8, CIFAR-10 Batch 2:  1.3718   0.6\n",
      "Epoch  8, CIFAR-10 Batch 3:  1.22795   0.675\n",
      "Epoch  8, CIFAR-10 Batch 4:  1.27474   0.55\n",
      "Epoch  8, CIFAR-10 Batch 5:  1.17387   0.625\n",
      "Epoch  9, CIFAR-10 Batch 1:  1.22332   0.525\n",
      "Epoch  9, CIFAR-10 Batch 2:  1.29329   0.575\n",
      "Epoch  9, CIFAR-10 Batch 3:  1.1378   0.7\n",
      "Epoch  9, CIFAR-10 Batch 4:  1.23566   0.475\n",
      "Epoch  9, CIFAR-10 Batch 5:  1.11407   0.7\n",
      "Epoch 10, CIFAR-10 Batch 1:  1.11474   0.575\n",
      "Epoch 10, CIFAR-10 Batch 2:  1.19605   0.725\n",
      "Epoch 10, CIFAR-10 Batch 3:  1.03732   0.725\n",
      "Epoch 10, CIFAR-10 Batch 4:  1.13526   0.6\n",
      "Epoch 10, CIFAR-10 Batch 5:  1.08332   0.6\n",
      "Epoch 11, CIFAR-10 Batch 1:  1.09401   0.55\n",
      "Epoch 11, CIFAR-10 Batch 2:  1.03142   0.725\n",
      "Epoch 11, CIFAR-10 Batch 3:  0.972438   0.75\n",
      "Epoch 11, CIFAR-10 Batch 4:  1.07817   0.675\n",
      "Epoch 11, CIFAR-10 Batch 5:  1.05933   0.8\n",
      "Epoch 12, CIFAR-10 Batch 1:  1.01275   0.525\n",
      "Epoch 12, CIFAR-10 Batch 2:  0.99228   0.675\n",
      "Epoch 12, CIFAR-10 Batch 3:  0.934434   0.725\n",
      "Epoch 12, CIFAR-10 Batch 4:  1.06911   0.725\n",
      "Epoch 12, CIFAR-10 Batch 5:  1.06167   0.7\n",
      "Epoch 13, CIFAR-10 Batch 1:  0.966851   0.625\n",
      "Epoch 13, CIFAR-10 Batch 2:  0.982582   0.675\n",
      "Epoch 13, CIFAR-10 Batch 3:  0.8785   0.8\n",
      "Epoch 13, CIFAR-10 Batch 4:  1.06037   0.725\n",
      "Epoch 13, CIFAR-10 Batch 5:  0.998295   0.675\n",
      "Epoch 14, CIFAR-10 Batch 1:  0.914869   0.7\n",
      "Epoch 14, CIFAR-10 Batch 2:  0.907232   0.7\n",
      "Epoch 14, CIFAR-10 Batch 3:  0.927631   0.675\n",
      "Epoch 14, CIFAR-10 Batch 4:  0.983591   0.725\n",
      "Epoch 14, CIFAR-10 Batch 5:  0.890158   0.8\n",
      "Epoch 15, CIFAR-10 Batch 1:  0.92032   0.75\n",
      "Epoch 15, CIFAR-10 Batch 2:  0.941237   0.7\n",
      "Epoch 15, CIFAR-10 Batch 3:  0.867003   0.825\n",
      "Epoch 15, CIFAR-10 Batch 4:  0.970996   0.775\n",
      "Epoch 15, CIFAR-10 Batch 5:  0.878102   0.8\n",
      "Epoch 16, CIFAR-10 Batch 1:  0.907561   0.675\n",
      "Epoch 16, CIFAR-10 Batch 2:  0.862299   0.775\n",
      "Epoch 16, CIFAR-10 Batch 3:  0.837554   0.775\n",
      "Epoch 16, CIFAR-10 Batch 4:  0.879577   0.85\n",
      "Epoch 16, CIFAR-10 Batch 5:  0.901994   0.775\n",
      "Epoch 17, CIFAR-10 Batch 1:  0.88578   0.65\n",
      "Epoch 17, CIFAR-10 Batch 2:  0.8296   0.725\n",
      "Epoch 17, CIFAR-10 Batch 3:  0.796219   0.85\n",
      "Epoch 17, CIFAR-10 Batch 4:  0.906294   0.8\n",
      "Epoch 17, CIFAR-10 Batch 5:  0.840254   0.75\n",
      "Epoch 18, CIFAR-10 Batch 1:  0.836774   0.75\n",
      "Epoch 18, CIFAR-10 Batch 2:  0.824467   0.775\n",
      "Epoch 18, CIFAR-10 Batch 3:  0.768448   0.825\n",
      "Epoch 18, CIFAR-10 Batch 4:  0.892821   0.75\n",
      "Epoch 18, CIFAR-10 Batch 5:  0.801366   0.775\n",
      "Epoch 19, CIFAR-10 Batch 1:  0.812373   0.725\n",
      "Epoch 19, CIFAR-10 Batch 2:  0.802031   0.75\n",
      "Epoch 19, CIFAR-10 Batch 3:  0.676831   0.875\n",
      "Epoch 19, CIFAR-10 Batch 4:  0.828469   0.8\n",
      "Epoch 19, CIFAR-10 Batch 5:  0.791336   0.825\n",
      "Epoch 20, CIFAR-10 Batch 1:  0.84374   0.675\n",
      "Epoch 20, CIFAR-10 Batch 2:  0.735426   0.725\n",
      "Epoch 20, CIFAR-10 Batch 3:  0.695067   0.825\n",
      "Epoch 20, CIFAR-10 Batch 4:  0.776781   0.9\n",
      "Epoch 20, CIFAR-10 Batch 5:  0.778516   0.8\n",
      "Epoch 21, CIFAR-10 Batch 1:  0.795403   0.75\n",
      "Epoch 21, CIFAR-10 Batch 2:  0.725181   0.725\n",
      "Epoch 21, CIFAR-10 Batch 3:  0.662267   0.85\n",
      "Epoch 21, CIFAR-10 Batch 4:  0.743051   0.875\n",
      "Epoch 21, CIFAR-10 Batch 5:  0.721295   0.85\n",
      "Epoch 22, CIFAR-10 Batch 1:  0.786844   0.75\n",
      "Epoch 22, CIFAR-10 Batch 2:  0.726204   0.75\n",
      "Epoch 22, CIFAR-10 Batch 3:  0.634458   0.85\n",
      "Epoch 22, CIFAR-10 Batch 4:  0.735226   0.9\n",
      "Epoch 22, CIFAR-10 Batch 5:  0.746799   0.85\n",
      "Epoch 23, CIFAR-10 Batch 1:  0.755139   0.725\n",
      "Epoch 23, CIFAR-10 Batch 2:  0.63026   0.825\n",
      "Epoch 23, CIFAR-10 Batch 3:  0.589656   0.875\n",
      "Epoch 23, CIFAR-10 Batch 4:  0.677852   0.875\n",
      "Epoch 23, CIFAR-10 Batch 5:  0.693241   0.775\n",
      "Epoch 24, CIFAR-10 Batch 1:  0.737947   0.7\n",
      "Epoch 24, CIFAR-10 Batch 2:  0.663364   0.825\n",
      "Epoch 24, CIFAR-10 Batch 3:  0.588912   0.9\n",
      "Epoch 24, CIFAR-10 Batch 4:  0.711214   0.9\n",
      "Epoch 24, CIFAR-10 Batch 5:  0.701344   0.825\n",
      "Epoch 25, CIFAR-10 Batch 1:  0.77256   0.7\n",
      "Epoch 25, CIFAR-10 Batch 2:  0.632189   0.8\n",
      "Epoch 25, CIFAR-10 Batch 3:  0.582876   0.875\n",
      "Epoch 25, CIFAR-10 Batch 4:  0.666581   0.9\n",
      "Epoch 25, CIFAR-10 Batch 5:  0.707834   0.825\n",
      "Epoch 26, CIFAR-10 Batch 1:  0.733279   0.675\n",
      "Epoch 26, CIFAR-10 Batch 2:  0.637017   0.8\n",
      "Epoch 26, CIFAR-10 Batch 3:  0.583207   0.875\n",
      "Epoch 26, CIFAR-10 Batch 4:  0.649214   0.9\n",
      "Epoch 26, CIFAR-10 Batch 5:  0.634539   0.925\n",
      "Epoch 27, CIFAR-10 Batch 1:  0.734105   0.7\n",
      "Epoch 27, CIFAR-10 Batch 2:  0.604086   0.85\n",
      "Epoch 27, CIFAR-10 Batch 3:  0.554715   0.875\n",
      "Epoch 27, CIFAR-10 Batch 4:  0.619948   0.9\n",
      "Epoch 27, CIFAR-10 Batch 5:  0.703808   0.775\n",
      "Epoch 28, CIFAR-10 Batch 1:  0.685457   0.775\n",
      "Epoch 28, CIFAR-10 Batch 2:  0.607103   0.825\n",
      "Epoch 28, CIFAR-10 Batch 3:  0.564919   0.875\n",
      "Epoch 28, CIFAR-10 Batch 4:  0.619905   0.9\n",
      "Epoch 28, CIFAR-10 Batch 5:  0.611967   0.85\n",
      "Epoch 29, CIFAR-10 Batch 1:  0.710876   0.725\n",
      "Epoch 29, CIFAR-10 Batch 2:  0.585426   0.85\n",
      "Epoch 29, CIFAR-10 Batch 3:  0.511523   0.925\n",
      "Epoch 29, CIFAR-10 Batch 4:  0.605443   0.925\n",
      "Epoch 29, CIFAR-10 Batch 5:  0.628908   0.875\n",
      "Epoch 30, CIFAR-10 Batch 1:  0.673939   0.75\n",
      "Epoch 30, CIFAR-10 Batch 2:  0.591277   0.825\n",
      "Epoch 30, CIFAR-10 Batch 3:  0.523484   0.925\n",
      "Epoch 30, CIFAR-10 Batch 4:  0.592574   0.9\n",
      "Epoch 30, CIFAR-10 Batch 5:  0.588638   0.85\n",
      "Epoch 31, CIFAR-10 Batch 1:  0.642777   0.75\n",
      "Epoch 31, CIFAR-10 Batch 2:  0.579788   0.8\n",
      "Epoch 31, CIFAR-10 Batch 3:  0.482439   0.9\n",
      "Epoch 31, CIFAR-10 Batch 4:  0.545038   0.925\n",
      "Epoch 31, CIFAR-10 Batch 5:  0.583038   0.85\n",
      "Epoch 32, CIFAR-10 Batch 1:  0.656564   0.8\n",
      "Epoch 32, CIFAR-10 Batch 2:  0.549594   0.875\n",
      "Epoch 32, CIFAR-10 Batch 3:  0.513356   0.9\n",
      "Epoch 32, CIFAR-10 Batch 4:  0.508332   0.925\n",
      "Epoch 32, CIFAR-10 Batch 5:  0.561877   0.8\n",
      "Epoch 33, CIFAR-10 Batch 1:  0.648841   0.75\n",
      "Epoch 33, CIFAR-10 Batch 2:  0.558267   0.825\n",
      "Epoch 33, CIFAR-10 Batch 3:  0.573143   0.875\n",
      "Epoch 33, CIFAR-10 Batch 4:  0.560822   0.925\n",
      "Epoch 33, CIFAR-10 Batch 5:  0.52749   0.9\n",
      "Epoch 34, CIFAR-10 Batch 1:  0.584714   0.85\n",
      "Epoch 34, CIFAR-10 Batch 2:  0.629333   0.8\n",
      "Epoch 34, CIFAR-10 Batch 3:  0.519442   0.9\n",
      "Epoch 34, CIFAR-10 Batch 4:  0.491118   0.975\n",
      "Epoch 34, CIFAR-10 Batch 5:  0.538621   0.925\n",
      "Epoch 35, CIFAR-10 Batch 1:  0.626562   0.85\n",
      "Epoch 35, CIFAR-10 Batch 2:  0.53246   0.875\n",
      "Epoch 35, CIFAR-10 Batch 3:  0.530202   0.925\n",
      "Epoch 35, CIFAR-10 Batch 4:  0.495926   0.95\n",
      "Epoch 35, CIFAR-10 Batch 5:  0.541961   0.875\n",
      "Epoch 36, CIFAR-10 Batch 1:  0.619102   0.75\n",
      "Epoch 36, CIFAR-10 Batch 2:  0.544914   0.85\n",
      "Epoch 36, CIFAR-10 Batch 3:  0.467172   0.95\n",
      "Epoch 36, CIFAR-10 Batch 4:  0.487027   0.925\n",
      "Epoch 36, CIFAR-10 Batch 5:  0.563757   0.925\n",
      "Epoch 37, CIFAR-10 Batch 1:  0.626066   0.825\n",
      "Epoch 37, CIFAR-10 Batch 2:  0.534958   0.875\n"
     ]
    },
    {
     "name": "stdout",
     "output_type": "stream",
     "text": [
      "Epoch 37, CIFAR-10 Batch 3:  0.503772   0.875\n",
      "Epoch 37, CIFAR-10 Batch 4:  0.493265   0.95\n",
      "Epoch 37, CIFAR-10 Batch 5:  0.511634   0.875\n",
      "Epoch 38, CIFAR-10 Batch 1:  0.55886   0.775\n",
      "Epoch 38, CIFAR-10 Batch 2:  0.534614   0.825\n",
      "Epoch 38, CIFAR-10 Batch 3:  0.463779   0.95\n",
      "Epoch 38, CIFAR-10 Batch 4:  0.497549   0.95\n",
      "Epoch 38, CIFAR-10 Batch 5:  0.501626   0.9\n",
      "Epoch 39, CIFAR-10 Batch 1:  0.567615   0.85\n",
      "Epoch 39, CIFAR-10 Batch 2:  0.476797   0.9\n",
      "Epoch 39, CIFAR-10 Batch 3:  0.480514   0.9\n",
      "Epoch 39, CIFAR-10 Batch 4:  0.452383   0.975\n",
      "Epoch 39, CIFAR-10 Batch 5:  0.482493   0.95\n",
      "Epoch 40, CIFAR-10 Batch 1:  0.551889   0.875\n",
      "Epoch 40, CIFAR-10 Batch 2:  0.516962   0.775\n",
      "Epoch 40, CIFAR-10 Batch 3:  0.471962   0.95\n",
      "Epoch 40, CIFAR-10 Batch 4:  0.433504   0.975\n",
      "Epoch 40, CIFAR-10 Batch 5:  0.507746   0.9\n"
     ]
    }
   ],
   "source": [
    "\"\"\"\n",
    "DON'T MODIFY ANYTHING IN THIS CELL\n",
    "\"\"\"\n",
    "save_model_path = './image_classification'\n",
    "\n",
    "print('Training...')\n",
    "with tf.Session() as sess:\n",
    "    # Initializing the variables\n",
    "    sess.run(tf.global_variables_initializer())\n",
    "    \n",
    "    # Training cycle\n",
    "    for epoch in range(epochs):\n",
    "        # Loop over all batches\n",
    "        n_batches = 5\n",
    "        for batch_i in range(1, n_batches + 1):\n",
    "            for batch_features, batch_labels in helper.load_preprocess_training_batch(batch_i, batch_size):\n",
    "                train_neural_network(sess, optimizer, keep_probability, batch_features, batch_labels)\n",
    "            print('Epoch {:>2}, CIFAR-10 Batch {}:  '.format(epoch + 1, batch_i), end='')\n",
    "            print_stats(sess, batch_features, batch_labels, cost, accuracy)\n",
    "            \n",
    "    # Save Model\n",
    "    saver = tf.train.Saver()\n",
    "    save_path = saver.save(sess, save_model_path)"
   ]
  },
  {
   "cell_type": "markdown",
   "metadata": {},
   "source": [
    "### CV for hyperparameters selection\n",
    "I will be using only the first 4 batches to train, and will validate with the 5th Batch. The best Validation score will be used for the final testing."
   ]
  },
  {
   "cell_type": "code",
   "execution_count": 107,
   "metadata": {
    "collapsed": true
   },
   "outputs": [],
   "source": [
    "# TODO: Tune Parameters\n",
    "epochs_all = [40,60,100]\n",
    "batch_size = 256\n",
    "keep_probability_all = [0.4,0.5,0.6]\n",
    "learning_rate_all = [0.001,0.003,0.01]\n",
    "optimizer = tf.train.AdamOptimizer(0.003).minimize(cost)"
   ]
  },
  {
   "cell_type": "code",
   "execution_count": 108,
   "metadata": {},
   "outputs": [
    {
     "name": "stdout",
     "output_type": "stream",
     "text": [
      "Training...\n",
      "40   0.4   0.001  @  0.507161458333\n",
      "40   0.4   0.003  @  0.455013020999\n",
      "40   0.4   0.01  @  0.102929687541\n",
      "40   0.5   0.001  @  0.543207464947\n",
      "40   0.5   0.003  @  0.536111111442\n",
      "40   0.5   0.01  @  0.102929687541\n",
      "40   0.6   0.001  @  0.577256944444\n",
      "40   0.6   0.003  @  0.573546007276\n",
      "40   0.6   0.01  @  0.40946180539\n",
      "60   0.4   0.001  @  0.489040798611\n",
      "60   0.4   0.003  @  0.423068576389\n",
      "60   0.4   0.01  @  0.102929687541\n",
      "60   0.5   0.001  @  0.546028645502\n",
      "60   0.5   0.003  @  0.524804688162\n",
      "60   0.5   0.01  @  0.469249131779\n",
      "60   0.6   0.001  @  0.585959201058\n",
      "60   0.6   0.003  @  0.519900172949\n",
      "60   0.6   0.01  @  0.491341145502\n",
      "100   0.4   0.001  @  0.494791666667\n",
      "100   0.4   0.003  @  0.458789062169\n",
      "100   0.4   0.01  @  0.102929687541\n",
      "100   0.5   0.001  @  0.565407986442\n",
      "100   0.5   0.003  @  0.493880208168\n",
      "100   0.5   0.01  @  0.102929687541\n",
      "100   0.6   0.001  @  0.576475694776\n",
      "100   0.6   0.003  @  0.507356771164\n",
      "100   0.6   0.01  @  0.520724826389\n"
     ]
    }
   ],
   "source": [
    "print('Training...')\n",
    "for epochs in epochs_all:\n",
    "    for keep_probability in keep_probability_all:\n",
    "        for learning_rate in learning_rate_all:\n",
    "            optimizer = tf.train.AdamOptimizer(learning_rate).minimize(cost)\n",
    "            with tf.Session() as sess:\n",
    "                # Initializing the variables\n",
    "                sess.run(tf.global_variables_initializer())\n",
    "\n",
    "                # Training cycle\n",
    "                for epoch in range(epochs):\n",
    "                    # Loop over all batches\n",
    "                    n_batches = 4\n",
    "                    for batch_i in range(1, n_batches + 1):\n",
    "                        for batch_features, batch_labels in helper.load_preprocess_training_batch(batch_i, batch_size):\n",
    "                            train_neural_network(sess, optimizer, keep_probability, batch_features, batch_labels)\n",
    "                \n",
    "                # Get accuracy in batches for memory limitations\n",
    "                valid_batch_acc_total = 0\n",
    "                valid_batch_count = 0\n",
    "\n",
    "                for valid_feature_batch, valid_label_batch in helper.load_preprocess_training_batch(5, batch_size):\n",
    "                    valid_batch_acc_total += sess.run(\n",
    "                        accuracy,\n",
    "                        feed_dict={x: valid_feature_batch, y: valid_label_batch, keep_prob: 1.0})\n",
    "                    valid_batch_count += 1\n",
    "                print(epochs,\" \" ,keep_probability,\" \", learning_rate,\" @ \", valid_batch_acc_total/valid_batch_count)"
   ]
  },
  {
   "cell_type": "markdown",
   "metadata": {},
   "source": [
    "### Fully Train the Model\n",
    "Now that we have the set of hyperparameters to choose we will train it with all five batches."
   ]
  },
  {
   "cell_type": "code",
   "execution_count": 109,
   "metadata": {
    "collapsed": true
   },
   "outputs": [],
   "source": [
    "epochs = 60\n",
    "batch_size = 256\n",
    "keep_probability = 0.5\n",
    "learning_rate = 0.001\n",
    "optimizer = tf.train.AdamOptimizer(learning_rate).minimize(cost)"
   ]
  },
  {
   "cell_type": "code",
   "execution_count": 110,
   "metadata": {},
   "outputs": [
    {
     "name": "stdout",
     "output_type": "stream",
     "text": [
      "Training...\n",
      "Epoch  1, CIFAR-10 Batch 5:  2.06342   0.275\n",
      "Epoch  2, CIFAR-10 Batch 5:  1.73017   0.475\n",
      "Epoch  3, CIFAR-10 Batch 5:  1.5622   0.45\n",
      "Epoch  4, CIFAR-10 Batch 5:  1.44682   0.475\n",
      "Epoch  5, CIFAR-10 Batch 5:  1.41441   0.425\n",
      "Epoch  6, CIFAR-10 Batch 5:  1.31344   0.475\n",
      "Epoch  7, CIFAR-10 Batch 5:  1.26415   0.575\n",
      "Epoch  8, CIFAR-10 Batch 5:  1.20406   0.65\n",
      "Epoch  9, CIFAR-10 Batch 5:  1.19393   0.575\n",
      "Epoch 10, CIFAR-10 Batch 5:  1.12283   0.7\n",
      "Epoch 11, CIFAR-10 Batch 5:  1.08849   0.725\n",
      "Epoch 12, CIFAR-10 Batch 5:  1.06166   0.65\n",
      "Epoch 13, CIFAR-10 Batch 5:  1.02827   0.625\n",
      "Epoch 14, CIFAR-10 Batch 5:  1.00382   0.675\n",
      "Epoch 15, CIFAR-10 Batch 5:  0.954166   0.7\n",
      "Epoch 16, CIFAR-10 Batch 5:  0.942875   0.7\n",
      "Epoch 17, CIFAR-10 Batch 5:  0.924688   0.7\n",
      "Epoch 18, CIFAR-10 Batch 5:  0.918542   0.725\n",
      "Epoch 19, CIFAR-10 Batch 5:  0.903037   0.7\n",
      "Epoch 20, CIFAR-10 Batch 5:  0.862541   0.725\n",
      "Epoch 21, CIFAR-10 Batch 5:  0.855453   0.75\n",
      "Epoch 22, CIFAR-10 Batch 5:  0.841392   0.775\n",
      "Epoch 23, CIFAR-10 Batch 5:  0.813636   0.8\n",
      "Epoch 24, CIFAR-10 Batch 5:  0.788043   0.775\n",
      "Epoch 25, CIFAR-10 Batch 5:  0.79002   0.75\n",
      "Epoch 26, CIFAR-10 Batch 5:  0.75433   0.85\n",
      "Epoch 27, CIFAR-10 Batch 5:  0.766489   0.85\n",
      "Epoch 28, CIFAR-10 Batch 5:  0.76858   0.8\n",
      "Epoch 29, CIFAR-10 Batch 5:  0.743013   0.775\n",
      "Epoch 30, CIFAR-10 Batch 5:  0.7277   0.775\n",
      "Epoch 31, CIFAR-10 Batch 5:  0.73119   0.85\n",
      "Epoch 32, CIFAR-10 Batch 5:  0.720829   0.825\n",
      "Epoch 33, CIFAR-10 Batch 5:  0.685403   0.825\n",
      "Epoch 34, CIFAR-10 Batch 5:  0.676046   0.8\n",
      "Epoch 35, CIFAR-10 Batch 5:  0.68533   0.85\n",
      "Epoch 36, CIFAR-10 Batch 5:  0.663289   0.825\n",
      "Epoch 37, CIFAR-10 Batch 5:  0.683941   0.8\n",
      "Epoch 38, CIFAR-10 Batch 5:  0.641711   0.85\n",
      "Epoch 39, CIFAR-10 Batch 5:  0.635128   0.825\n",
      "Epoch 40, CIFAR-10 Batch 5:  0.614731   0.9\n",
      "Epoch 41, CIFAR-10 Batch 5:  0.611319   0.825\n",
      "Epoch 42, CIFAR-10 Batch 5:  0.608763   0.85\n",
      "Epoch 43, CIFAR-10 Batch 5:  0.592319   0.9\n",
      "Epoch 44, CIFAR-10 Batch 5:  0.582596   0.925\n",
      "Epoch 45, CIFAR-10 Batch 5:  0.572486   0.925\n",
      "Epoch 46, CIFAR-10 Batch 5:  0.569366   0.925\n",
      "Epoch 47, CIFAR-10 Batch 5:  0.598273   0.925\n",
      "Epoch 48, CIFAR-10 Batch 5:  0.562994   0.875\n",
      "Epoch 49, CIFAR-10 Batch 5:  0.544465   0.9\n",
      "Epoch 50, CIFAR-10 Batch 5:  0.564694   0.9\n",
      "Epoch 51, CIFAR-10 Batch 5:  0.549846   0.9\n",
      "Epoch 52, CIFAR-10 Batch 5:  0.561104   0.9\n",
      "Epoch 53, CIFAR-10 Batch 5:  0.528665   0.9\n",
      "Epoch 54, CIFAR-10 Batch 5:  0.507872   0.925\n",
      "Epoch 55, CIFAR-10 Batch 5:  0.514536   0.95\n",
      "Epoch 56, CIFAR-10 Batch 5:  0.518898   0.95\n",
      "Epoch 57, CIFAR-10 Batch 5:  0.505268   0.925\n",
      "Epoch 58, CIFAR-10 Batch 5:  0.500283   0.975\n",
      "Epoch 59, CIFAR-10 Batch 5:  0.515866   0.9\n",
      "Epoch 60, CIFAR-10 Batch 5:  0.507241   0.95\n"
     ]
    }
   ],
   "source": [
    "\"\"\"\n",
    "DON'T MODIFY ANYTHING IN THIS CELL\n",
    "\"\"\"\n",
    "save_model_path = './image_classification'\n",
    "\n",
    "print('Training...')\n",
    "with tf.Session() as sess:\n",
    "    # Initializing the variables\n",
    "    sess.run(tf.global_variables_initializer())\n",
    "    \n",
    "    # Training cycle\n",
    "    for epoch in range(epochs):\n",
    "        # Loop over all batches\n",
    "        n_batches = 5\n",
    "        for batch_i in range(1, n_batches + 1):\n",
    "            for batch_features, batch_labels in helper.load_preprocess_training_batch(batch_i, batch_size):\n",
    "                train_neural_network(sess, optimizer, keep_probability, batch_features, batch_labels)\n",
    "        #show only batch 5\n",
    "        print('Epoch {:>2}, CIFAR-10 Batch {}:  '.format(epoch + 1, batch_i), end='')\n",
    "        print_stats(sess, batch_features, batch_labels, cost, accuracy)\n",
    "            \n",
    "    # Save Model\n",
    "    saver = tf.train.Saver()\n",
    "    save_path = saver.save(sess, save_model_path)"
   ]
  },
  {
   "cell_type": "markdown",
   "metadata": {},
   "source": [
    "# Checkpoint\n",
    "The model has been saved to disk.\n",
    "## Test Model\n",
    "Test your model against the test dataset.  This will be your final accuracy. You should have an accuracy greater than 50%. If you don't, keep tweaking the model architecture and parameters."
   ]
  },
  {
   "cell_type": "code",
   "execution_count": 111,
   "metadata": {},
   "outputs": [
    {
     "name": "stdout",
     "output_type": "stream",
     "text": [
      "Testing Accuracy: 0.57255859375\n",
      "\n"
     ]
    },
    {
     "data": {
      "image/png": "[encoded data removed]",
      "text/plain": [
       "<matplotlib.figure.Figure at 0x1e2835b1630>"
      ]
     },
     "metadata": {
      "image/png": {
       "height": 319,
       "width": 355
      }
     },
     "output_type": "display_data"
    }
   ],
   "source": [
    "\"\"\"\n",
    "DON'T MODIFY ANYTHING IN THIS CELL\n",
    "\"\"\"\n",
    "%matplotlib inline\n",
    "%config InlineBackend.figure_format = 'retina'\n",
    "\n",
    "import tensorflow as tf\n",
    "import pickle\n",
    "import helper\n",
    "import random\n",
    "\n",
    "# Set batch size if not already set\n",
    "try:\n",
    "    if batch_size:\n",
    "        pass\n",
    "except NameError:\n",
    "    batch_size = 64\n",
    "\n",
    "save_model_path = './image_classification'\n",
    "n_samples = 4\n",
    "top_n_predictions = 3\n",
    "\n",
    "def test_model():\n",
    "    \"\"\"\n",
    "    Test the saved model against the test dataset\n",
    "    \"\"\"\n",
    "\n",
    "    test_features, test_labels = pickle.load(open('preprocess_test.p', mode='rb'))\n",
    "    loaded_graph = tf.Graph()\n",
    "\n",
    "    with tf.Session(graph=loaded_graph) as sess:\n",
    "        # Load model\n",
    "        loader = tf.train.import_meta_graph(save_model_path + '.meta')\n",
    "        loader.restore(sess, save_model_path)\n",
    "\n",
    "        # Get Tensors from loaded model\n",
    "        loaded_x = loaded_graph.get_tensor_by_name('x:0')\n",
    "        loaded_y = loaded_graph.get_tensor_by_name('y:0')\n",
    "        loaded_keep_prob = loaded_graph.get_tensor_by_name('keep_prob:0')\n",
    "        loaded_logits = loaded_graph.get_tensor_by_name('logits:0')\n",
    "        loaded_acc = loaded_graph.get_tensor_by_name('accuracy:0')\n",
    "        \n",
    "        # Get accuracy in batches for memory limitations\n",
    "        test_batch_acc_total = 0\n",
    "        test_batch_count = 0\n",
    "        \n",
    "        for test_feature_batch, test_label_batch in helper.batch_features_labels(test_features, test_labels, batch_size):\n",
    "            test_batch_acc_total += sess.run(\n",
    "                loaded_acc,\n",
    "                feed_dict={loaded_x: test_feature_batch, loaded_y: test_label_batch, loaded_keep_prob: 1.0})\n",
    "            test_batch_count += 1\n",
    "\n",
    "        print('Testing Accuracy: {}\\n'.format(test_batch_acc_total/test_batch_count))\n",
    "\n",
    "        # Print Random Samples\n",
    "        random_test_features, random_test_labels = tuple(zip(*random.sample(list(zip(test_features, test_labels)), n_samples)))\n",
    "        random_test_predictions = sess.run(\n",
    "            tf.nn.top_k(tf.nn.softmax(loaded_logits), top_n_predictions),\n",
    "            feed_dict={loaded_x: random_test_features, loaded_y: random_test_labels, loaded_keep_prob: 1.0})\n",
    "        helper.display_image_predictions(random_test_features, random_test_labels, random_test_predictions)\n",
    "\n",
    "\n",
    "test_model()"
   ]
  },
  {
   "cell_type": "markdown",
   "metadata": {},
   "source": [
    "## Why 50-80% Accuracy?\n",
    "You might be wondering why you can't get an accuracy any higher. First things first, 50% isn't bad for a simple CNN.  Pure guessing would get you 10% accuracy. However, you might notice people are getting scores [well above 80%](http://rodrigob.github.io/are_we_there_yet/build/classification_datasets_results.html#43494641522d3130).  That's because we haven't taught you all there is to know about neural networks. We still need to cover a few more techniques.\n",
    "## Submitting This Project\n",
    "When submitting this project, make sure to run all the cells before saving the notebook.  Save the notebook file as \"dlnd_image_classification.ipynb\" and save it as a HTML file under \"File\" -> \"Download as\".  Include the \"helper.py\" and \"problem_unittests.py\" files in your submission."
   ]
  }
 ],
 "metadata": {
  "kernelspec": {
   "display_name": "Python 3",
   "language": "python",
   "name": "python3"
  },
  "language_info": {
   "codemirror_mode": {
    "name": "ipython",
    "version": 3
   },
   "file_extension": ".py",
   "mimetype": "text/x-python",
   "name": "python",
   "nbconvert_exporter": "python",
   "pygments_lexer": "ipython3",
   "version": "3.5.3"
  }
 },
 "nbformat": 4,
 "nbformat_minor": 1
}
